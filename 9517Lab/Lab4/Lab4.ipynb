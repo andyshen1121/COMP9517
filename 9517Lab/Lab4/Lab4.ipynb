{
 "cells": [
  {
   "cell_type": "code",
   "execution_count": 1,
   "metadata": {},
   "outputs": [],
   "source": [
    "from sklearn import metrics\n",
    "from sklearn.datasets import load_digits\n",
    "from sklearn.model_selection import train_test_split\n",
    "from sklearn.neighbors import KNeighborsClassifier\n",
    "from sklearn.linear_model import SGDClassifier\n",
    "from sklearn.tree import DecisionTreeClassifier"
   ]
  },
  {
   "cell_type": "code",
   "execution_count": 2,
   "metadata": {},
   "outputs": [],
   "source": [
    "import matplotlib.pyplot as plt\n",
    "import numpy as np"
   ]
  },
  {
   "cell_type": "code",
   "execution_count": 3,
   "metadata": {},
   "outputs": [],
   "source": [
    "digits = load_digits()"
   ]
  },
  {
   "cell_type": "code",
   "execution_count": 4,
   "metadata": {},
   "outputs": [
    {
     "data": {
      "text/plain": [
       "Text(0.5, 1.0, 'Label: 0\\n')"
      ]
     },
     "execution_count": 4,
     "metadata": {},
     "output_type": "execute_result"
    },
    {
     "data": {
      "image/png": "[encoded data removed]",
      "text/plain": [
       "<Figure size 432x288 with 1 Axes>"
      ]
     },
     "metadata": {
      "needs_background": "light"
     },
     "output_type": "display_data"
    }
   ],
   "source": [
    "plt.imshow(np.reshape(digits.data[0], (8, 8)), cmap='gray')\n",
    "plt.title('Label: %i\\n' % digits.target[0], fontsize=25)"
   ]
  },
  {
   "cell_type": "code",
   "execution_count": 5,
   "metadata": {},
   "outputs": [],
   "source": [
    "X_train, X_test, y_train, y_test = train_test_split(digits.data, digits.target, test_size=0.25, random_state=42)"
   ]
  },
  {
   "cell_type": "code",
   "execution_count": 6,
   "metadata": {},
   "outputs": [],
   "source": [
    "KNN = KNeighborsClassifier(n_neighbors=6)\n",
    "# First, I try to use default value 5, the knn accuracy and recall is good.\n",
    "# When I change n_neighbours parameter to 3, the performance is not better than before.\n",
    "# Because when we decrease the parameter value, the model will be overfitting.\n",
    "# Then I increase the parameter to 6, the performance is better than the model which use the default parameter.\n",
    "# But when I continue to increase this value, the performance is not better than before.\n",
    "SGD = SGDClassifier()\n",
    "DT = DecisionTreeClassifier()"
   ]
  },
  {
   "cell_type": "code",
   "execution_count": 7,
   "metadata": {},
   "outputs": [
    {
     "data": {
      "text/plain": [
       "DecisionTreeClassifier(ccp_alpha=0.0, class_weight=None, criterion='gini',\n",
       "                       max_depth=None, max_features=None, max_leaf_nodes=None,\n",
       "                       min_impurity_decrease=0.0, min_impurity_split=None,\n",
       "                       min_samples_leaf=1, min_samples_split=2,\n",
       "                       min_weight_fraction_leaf=0.0, presort='deprecated',\n",
       "                       random_state=None, splitter='best')"
      ]
     },
     "execution_count": 7,
     "metadata": {},
     "output_type": "execute_result"
    }
   ],
   "source": [
    "KNN.fit(X_train, y_train)\n",
    "SGD.fit(X_train, y_train)\n",
    "DT.fit(X_train, y_train)"
   ]
  },
  {
   "cell_type": "code",
   "execution_count": 8,
   "metadata": {},
   "outputs": [],
   "source": [
    "y_pred_knn = KNN.predict(X_test)\n",
    "y_pred_sgd = SGD.predict(X_test)\n",
    "y_pred_dt = DT.predict(X_test)"
   ]
  },
  {
   "cell_type": "code",
   "execution_count": 9,
   "metadata": {},
   "outputs": [],
   "source": [
    "knn_accuracy = metrics.accuracy_score(y_test, y_pred_knn)\n",
    "knn_recall = metrics.recall_score(y_test, y_pred_knn, average='macro')\n",
    "knn_confusion_matrix = metrics.confusion_matrix(y_test, y_pred_knn)\n",
    "sgd_accuracy = metrics.accuracy_score(y_test, y_pred_sgd)\n",
    "sgd_recall = metrics.recall_score(y_test, y_pred_sgd, average='macro')\n",
    "sgd_confusion_matrix = metrics.confusion_matrix(y_test, y_pred_sgd)\n",
    "dt_accuracy = metrics.accuracy_score(y_test, y_pred_dt)\n",
    "dt_recall = metrics.recall_score(y_test, y_pred_dt, average='macro')\n",
    "dt_confusion_matrix = metrics.confusion_matrix(y_test, y_pred_dt)"
   ]
  },
  {
   "cell_type": "code",
   "execution_count": 10,
   "metadata": {},
   "outputs": [
    {
     "name": "stdout",
     "output_type": "stream",
     "text": [
      "COMP9517 Week 5 Lab - z5178114\n",
      "\n",
      "Test size = 0.25\n",
      "KNN Accuracy:  0.996    Recall: 0.996\n",
      "SGD Accuracy:  0.962    Recall: 0.963\n",
      "DT Accuracy:   0.869    Recall: 0.865\n",
      "\n",
      "KNN Confusion Matrix:\n",
      "[[43  0  0  0  0  0  0  0  0  0]\n",
      " [ 0 37  0  0  0  0  0  0  0  0]\n",
      " [ 0  0 38  0  0  0  0  0  0  0]\n",
      " [ 0  0  0 46  0  0  0  0  0  0]\n",
      " [ 0  0  0  0 55  0  0  0  0  0]\n",
      " [ 0  0  0  0  0 59  0  0  0  0]\n",
      " [ 0  0  0  0  0  0 45  0  0  0]\n",
      " [ 0  0  0  0  0  0  0 41  0  0]\n",
      " [ 0  0  0  0  0  0  0  0 38  0]\n",
      " [ 0  0  0  0  1  1  0  0  0 46]]\n"
     ]
    }
   ],
   "source": [
    "print('COMP9517 Week 5 Lab - z5178114')\n",
    "print('')\n",
    "print('Test size = 0.25')\n",
    "print(f'KNN Accuracy:  {round(knn_accuracy, 3)}    Recall: {round(knn_recall, 3)}')\n",
    "print(f'SGD Accuracy:  {round(sgd_accuracy, 3)}    Recall: {round(sgd_recall, 3)}')\n",
    "print(f'DT Accuracy:   {round(dt_accuracy, 3)}    Recall: {round(dt_recall, 3)}')\n",
    "print('')\n",
    "print('KNN Confusion Matrix:')\n",
    "print(knn_confusion_matrix)"
   ]
  },
  {
   "cell_type": "code",
   "execution_count": null,
   "metadata": {},
   "outputs": [],
   "source": []
  }
 ],
 "metadata": {
  "kernelspec": {
   "display_name": "Python 3",
   "language": "python",
   "name": "python3"
  },
  "language_info": {
   "codemirror_mode": {
    "name": "ipython",
    "version": 3
   },
   "file_extension": ".py",
   "mimetype": "text/x-python",
   "name": "python",
   "nbconvert_exporter": "python",
   "pygments_lexer": "ipython3",
   "version": "3.7.4"
  }
 },
 "nbformat": 4,
 "nbformat_minor": 2
}
